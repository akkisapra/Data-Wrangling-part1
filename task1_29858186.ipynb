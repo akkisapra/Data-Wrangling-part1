{
 "cells": [
  {
   "cell_type": "markdown",
   "metadata": {},
   "source": [
    "# FIT5196 Assessment 1, Task 1: Parsing Raw Text Files\n",
    "#### Student Name: Akshay Sapra\n",
    "#### Student ID: 29858186\n",
    "\n",
    "Date: 14/04/2019\n",
    "\n",
    "Environment: Python 3.6.6 and Jupyter notebook\n",
    "Libraries used: \n",
    "* re (for regular expression ) \n",
    "\n",
    "\n",
    "\n",
    "## 1. Introduction\n",
    "I have created this assignment to demonstrate my task pre processing capabilities. I have worked upon semi-structured text files which contains information about several units in the Monash University crawled from Monash Website. Each data-set contains information about the unit, e.g., unit code, unit title, synopsis, requirements, output, chief examiner, etc.\n",
    "\n",
    "I will be transforming the data into the XML and JSON format with the following elements:\n",
    "1. Unit code/Title: is a 7-character string (three uppercase letter followed by 4 digits).\n",
    "2. Pre-requisites: only the unit codes of the units that are pre-requisite + co-requisite for\n",
    "the current unit (‘NA’ if the value is Null).\n",
    "3. Prohibitions: only the unit codes of the units that are prohibited to be taken with the\n",
    "current unit (‘NA’ if the value is Null).\n",
    "4. Synopsis: a string containing the synopsis of the unit (‘NA’ if the value is Null)\n",
    "5. Requirements: the list of requirements of the current unit (‘NA’ if the value is Null).\n",
    "6. Outputs: the list of outputs of the current unit (‘NA’ if the value is Null).\n",
    "7. Chief-examiners: the list of the chief-examiners of the current unit (‘TBA’ if Null).\n",
    "\n",
    "P.S. **All the characters of the unit codes with 7+ characters are extracted**, for example, DPSY5262. \n"
   ]
  },
  {
   "cell_type": "markdown",
   "metadata": {},
   "source": [
    "## 2.  Import libraries "
   ]
  },
  {
   "cell_type": "code",
   "execution_count": 13,
   "metadata": {},
   "outputs": [],
   "source": [
    "import re"
   ]
  },
  {
   "cell_type": "markdown",
   "metadata": {},
   "source": [
    "## 3. Loading data"
   ]
  },
  {
   "cell_type": "markdown",
   "metadata": {},
   "source": [
    "The file 29858186.txt contain data of 400 units. We will load the file into the 'text' variable by splitting the file from \"\\<!-- /.content-inner__main --></div>\" tag.       \n",
    "I have used this tag because, upon investigation of the file, I found, this is the tag which is dividing the data of each unit.\n",
    "We will open the first element of the text file to identify the pattern of the file in notebook."
   ]
  },
  {
   "cell_type": "code",
   "execution_count": 14,
   "metadata": {},
   "outputs": [
    {
     "data": {
      "text/plain": [
       "'<div class=\"content-inner__main\">\\n<!-- breadcrumbs -->\\n<nav class=\"breadcrumbs mobile-hidden\" id=\"breadcrumbs\">\\n<p class=\"visuallyhidden\" id=\"breadcrumb__label\">You are here:</p>\\n<ul aria-labelledby=\"breadcrumb__label\" class=\"breadcrumbs__list\">\\n<li class=\"breadcrumbs__item home\">\\n<a class=\"breadcrumbs__link\" href=\"https://www.monash.edu/\">Home</a>\\n<span aria-hidden=\"true\" class=\"breadcrumbs__divider\">|</span>\\n</li>\\n<li class=\"breadcrumbs__item\">\\n<a class=\"breadcrumbs__link\" href=\"https://www.monash.edu/study\">Study</a>\\n<span aria-hidden=\"true\" class=\"breadcrumbs__divider\">|</span>\\n</li>\\n<li class=\"breadcrumbs__item\">\\n<a class=\"breadcrumbs__link\" href=\"/pubs/2019handbooks/\">2019 Handbooks</a>\\n<span aria-hidden=\"true\" class=\"breadcrumbs__divider\">|</span>\\n</li>\\n<li class=\"breadcrumbs__item breadcrumbs__current\"><a class=\"breadcrumbs__link\" href=\"/pubs/2019handbooks/units\">Units</a></li>\\n</ul>\\n</nav>\\n<div class=\"hbk-banner-box\">\\n<h1 class=\"banner_arts\"><span class=\"unitcode\">ATS3919</span> - Journalism professional placement<span class=\"hbk-archive-only\"> - 2019</span></h1>\\n</div>\\n<div id=\"content_container_\">\\n<h2 class=\"hbk-eftsl\">6 points, SCA Band 1, 0.125 EFTSL</h2>\\n<div class=\"hbk-unit-info-box\" id=\"box-ATS3919\">\\n<h2 class=\"hbk-unit-info-box__heading heading_arts\">Undergraduate - Unit</h2>\\n<p class=\"hbk-highlight-value\">Refer to the specific\\n         <a href=\"http://monash.edu/enrolments/dates/census.html\">census and withdrawal dates</a>\\n         for the semester(s) in which this unit is offered.</p>\\n<p class=\"hbk-highlight-heading\">Faculty</p>\\n<p class=\"hbk-highlight-value\"><a href=\"index-byfaculty-arts.html\">Arts</a></p>\\n<p class=\"hbk-highlight-heading\">Organisational Unit</p>\\n<p class=\"hbk-highlight-value\"><a href=\"index-byou-journalism.html\">Journalism</a></p>\\n<p class=\"hbk-highlight-heading\">Chief examiner(s)</p>\\n<p>\\n<a href=\"http://staffsearch.monash.edu/?name=Julie-Ann Tullberg\">Ms Julie-Ann Tullberg</a>\\n<br/>\\n</p>\\n<p class=\"hbk-highlight-heading\">Coordinator(s)</p>\\n<p>\\n<a href=\"http://staffsearch.monash.edu/?name=Julie-Ann Tullberg\">Ms Julie-Ann Tullberg</a>\\n<br/>\\n</p>\\n<p class=\"hbk-highlight-heading\">Unit guides</p>\\n<ul>\\n<li>\\n<a href=\"http://unitguidemanager.monash.edu/view?unitCode=ATS3919&amp;tpCode=S1-01&amp;tpYear=2019\">First semester</a>\\n</li>\\n<li>\\n<a href=\"http://unitguidemanager.monash.edu/view?unitCode=ATS3919&amp;tpCode=S2-01&amp;tpYear=2019\">Second semester</a>\\n</li>\\n</ul>\\n</div>\\n<div class=\"hbk-preamble \" id=\"preamble-ATS3919\">\\n<div class=\"hbk-preamble-entry\">\\n<div class=\"hbk-preamble-icon hbk-preamble-icon_mode\"></div>\\n<p class=\"hbk-preamble-heading\">Offered</p>\\n<p><a href=\"index-bylocation-caulfield.html\">Caulfield</a></p><ul class=\"hbk-preamble-list__offerings\"><li>First semester 2019 (Flexible)</li><li>Second semester 2019 (Flexible)</li></ul>\\n</div>\\n<div class=\"hbk-preamble-entry\">\\n<p class=\"hbk-preamble-heading\">Prerequisites</p>\\n<p>This unit is only available to students enrolled in the Bachelor of Arts, Bachelor of Media Communication (Journalism specialisation only) and Bachelor of Journalism and associated double degrees.</p>\\n<p>Bachelor of Arts and Bachelor of Media Communication students must have completed a major/specialisation in Journalism and have a course WAM equal to or greater than 70.</p>\\n<p>Bachelor of Journalism students must have passed ATS1328, ATS1329, ATS1901, ATS1902; plus 12 credit points of Journalism and Journalism studies units at second year level which should include <span class=\"unitlink\"><a href=\"/pubs/2019handbooks/units/ATS2784.html\">ATS2784</a></span> and ATS2785 and have course WAM equal to or greater than 70.</p>\\n<p class=\"hbk-preamble-heading\">Prohibitions</p>\\n<p><span class=\"unitlink\"><a href=\"/pubs/2019handbooks/units/AZA3919.html\">AZA3919</a></span>, <span class=\"unitlink\"><a href=\"/pubs/2019handbooks/units/AZA3744.html\">AZA3744</a></span></p>\\n</div>\\n</div>\\n<div class=\"notes\">\\n<p class=\"hbk-heading hdg_6\">Notes</p>\\n<p></p><ul>\\n<li>The unit may be offered as part of the <a class=\"hbk-screen-url\" href=\"http://www.monash.edu/students/courses/arts/summer-program.html\">Summer Arts Program</a><span class=\"hbk-print-url\">Summer Arts Program (<a href=\"http://www.monash.edu/students/courses/arts/summer-program.html\">http://www.monash.edu/students/courses/arts/summer-program.html</a>)</span>.</li>\\n<li>This is an <a class=\"hbk-screen-url\" href=\"http://artsonline.monash.edu.au/internships/\">internship</a><span class=\"hbk-print-url\">internship (<a href=\"http://artsonline.monash.edu.au/internships/\">http://artsonline.monash.edu.au/internships/</a>)</span> unit that requires an application to be enrolled.</li>\\n</ul>\\n</div>\\n<h2 class=\"hbk-heading\">Synopsis</h2>\\n<div>\\n<p>This is a final year unit. Students have the option of undertaking an industry placement in print, audio, visual or on-line media. Placement opportunities are negotiated with the Unit Coordinator, and require students to produce self-authored work for publication/broadcast and to produce a reflective report on the process and products of the placement.</p>\\n</div>\\n<h2 class=\"hbk-heading\">Outcomes</h2>\\n<div>\\n<p>Students who successfully complete this unit should be able to demonstrate:</p>\\n<ol princestart=\"0\" start=\"1\" type=\"1\">\\n<li>Practical experience in journalistic media in Australia;</li>\\n<li>Ability to analyse and reflect on newsroom operations and about news criteria and journalism professional practice;</li>\\n<li>Ability to apply the principles and practice of journalism that they have learnt in their undergraduate studies;</li>\\n<li>Skills relevant to prospective employers;</li>\\n<li>Evidence of a folio of experiences and publications gained during placement;</li>\\n<li>Competence in meeting the demands of a professional workplace and being able to reflect critically on those demands.</li>\\n</ol>\\n</div>\\n<h2 class=\"hbk-heading\">Assessment</h2>\\n<div>\\n<p>Within semester assessment: 100%</p>\\n</div>\\n<h2 class=\"hbk-heading\">Workload requirements</h2>\\n<div>\\n<p>Minimum total expected workload to achieve the learning outcomes for this unit is 144 hours per semester typically comprising a mixture of scheduled learning activities and independent study. A unit requires on average three/four hours of scheduled activities per week. Scheduled activities may include a combination of teacher directed learning, peer directed learning and online engagement.</p><p>See also <a href=\"http://www.monash.edu.au/timetables/\">Unit timetable information</a></p>\\n</div>\\n<h2 class=\"hbk-heading\">This unit applies to the following area(s) of study</h2>\\n<div>\\n<p><a href=\"../aos/journalism\">Journalism</a></p>\\n</div>\\n<!-- /.content_container--> </div>\\n'"
      ]
     },
     "execution_count": 14,
     "metadata": {},
     "output_type": "execute_result"
    }
   ],
   "source": [
    "with open('29858186.txt','r', encoding='UTF-8') as infile:\n",
    "    text = infile.read().split(r\"<!-- /.content-inner__main --></div>\")\n",
    "text[0]"
   ]
  },
  {
   "cell_type": "markdown",
   "metadata": {},
   "source": [
    "## 4. Examine Data"
   ]
  },
  {
   "cell_type": "markdown",
   "metadata": {},
   "source": [
    "To examine the data and patterns, I tried identifying the the regex and tried exploring a single element of the file before implmenting the code for entire file."
   ]
  },
  {
   "cell_type": "code",
   "execution_count": 15,
   "metadata": {},
   "outputs": [
    {
     "data": {
      "text/plain": [
       "[]"
      ]
     },
     "execution_count": 15,
     "metadata": {},
     "output_type": "execute_result"
    }
   ],
   "source": [
    "reg='<span class=\"unitcode\">([A-Z]{3}[0-9]{4}|[A-Z]{4}[0-9]{4})</span>'\n",
    "unit_code= re.findall(reg,text[314])\n",
    "unit_code\n",
    "\n",
    "reg='<span class=\"unitcode\">(?:[A-Z]{3}[0-9]{4}|[A-Z]{4}[0-9]{4})</span> - (.*?)<span'\n",
    "title=re.findall(reg,text[0])\n",
    "title\n",
    "\n",
    "reg='<h2 class=\\\"hbk-heading\\\">Synopsis</h2><div><p>(.*?)</p></div>'\n",
    "synopsis=re.findall(reg,text[0])\n",
    "synopsis\n",
    "\n",
    "reg='<p class=\\\"hbk-preamble-heading\\\">Prerequisites</p><p>(.*?)<p class'\n",
    "temp_pre=re.findall(reg,text[0])\n",
    "prereq =re.findall(r'[A-Z]{3}[0-9]{4}|[A-Z]{4}[0-9]{4}',str(temp_pre))\n",
    "prereq= list(set(prereq))\n",
    "prereq\n",
    "\n",
    "reg='<p class=\"hbk-preamble-heading\">Co-requisites</p>(.*?)<p class'\n",
    "temp_coreq=re.findall(reg,text[0])\n",
    "corereq =re.findall(r'[A-Z]{3}[0-9]{4}|[A-Z]{4}[0-9]{4}',str(temp_coreq))\n",
    "corereq= list(set(corereq))\n",
    "corereq\n",
    "\n",
    "reg='<p class=\"hbk-preamble-heading\">Prohibitions</p>(.*?)</div>'\n",
    "temp_pro=re.findall(reg,text[0])\n",
    "prohib =re.findall(r'[A-Z]{3}[0-9]{4}|[A-Z]{4}[0-9]{4}',str(temp_pro))\n",
    "prohib= list(set(prohib))\n",
    "prohib\n",
    "\n",
    "reg='<h2 class=\"hbk-heading\">Workload requirements</h2><div>(.*?)<p>See also'\n",
    "temp_req=re.findall(reg,text[0])\n",
    "req =re.findall(r'>(.+?)<',str(temp_req))\n",
    "req= list(set(req))\n",
    "req\n",
    "\n",
    "reg='<h2 class=\"hbk-heading\">Outcomes</h2><div>(.*?)</div>'\n",
    "temp_out=re.findall(reg,text[0])\n",
    "out =re.findall(r'li>(.+?)</li',str(temp_out))\n",
    "out= list(set(out))\n",
    "out\n",
    "\n",
    "reg='<p class=\"hbk-highlight-heading\">Chief examiner\\(s\\)</p><p>(.*?)</p>'\n",
    "temp_ce=re.findall(reg,text[0])\n",
    "ce =re.findall(r'\">(.+?)</',str(temp_ce))\n",
    "ce= list(set(ce))\n",
    "ce"
   ]
  },
  {
   "cell_type": "markdown",
   "metadata": {},
   "source": [
    "## 5. Data Extraction"
   ]
  },
  {
   "cell_type": "markdown",
   "metadata": {},
   "source": [
    "I have used regular expression to extract all the required data and make the changes to the data to convert it into the desired format. Enire collected data is stored in a list which will further be used to store it into a xml or JSON file."
   ]
  },
  {
   "cell_type": "code",
   "execution_count": 16,
   "metadata": {},
   "outputs": [],
   "source": [
    "unit_code=[]\n",
    "title=[]\n",
    "chief_examiner=[]\n",
    "outcome=[]\n",
    "synopsis=[]\n",
    "requirement=[]\n",
    "prohibition=[]\n",
    "prerequisite=[]\n",
    "reg_unit_code='<span class=\"unitcode\">([A-Z]{3}[0-9]{4}|[A-Z]{4}[0-9]{4})</span>'\n",
    "reg_title='<span class=\\\"unitcode\\\">(?:[A-Z]{3}[0-9]{4}|[A-Z]{4}[0-9]{4})</span> - (.*?)<span'\n",
    "reg_synop='<h2 class=\\\"hbk-heading\\\">Synopsis</h2><div><p>(.*?)</p>'\n",
    "reg_prereq='<p class=\\\"hbk-preamble-heading\\\">Prerequisites</p><p>(.*?)</p'\n",
    "reg_coreq='<p class=\\\"hbk-preamble-heading\\\">Co-requisites</p>(.*?)</p'\n",
    "reg_prohib='<p class=\\\"hbk-preamble-heading\\\">Prohibitions</p>(.*?)</div>'\n",
    "reg_req='<h2 class=\\\"hbk-heading\\\">Assessment</h2><div>(.*?)</div>'\n",
    "# reg_req_2='<h2 class=\"hbk-heading\">.(?:.*?)requirements</h2><div>(.*?)</div>'\n",
    "reg_ce='<p class=\\\"hbk-highlight-heading\\\">Chief examiner\\(s\\)</p><p>(.*?)</p>'\n",
    "reg_outcome='<h2 class=\\\"hbk-heading\\\">Outcomes</h2><div>(.*?)</div>'\n",
    "\n",
    "for i in range(len(text)):\n",
    "#     print(i)\n",
    "    text[i]=re.sub('\\n','',text[i])\n",
    "    \n",
    "    temp_unit= re.findall(reg_unit_code,text[i])\n",
    "    unit_code.insert(i,temp_unit)\n",
    "    \n",
    "    temp_title=re.findall(reg_title,text[i])\n",
    "    title.insert(i,temp_title)\n",
    "    \n",
    "    temp_synopsis=re.findall(reg_synop,text[i])   \n",
    "    if len(temp_synopsis)!=0:\n",
    "        temp_synopsis=re.sub('(<.+?>)','',temp_synopsis[0])\n",
    "        temp_synopsis=re.sub('\\&amp','&#38',temp_synopsis)\n",
    "        temp_synopsis=re.findall('(.*)',temp_synopsis) \n",
    "        synopsis.insert(i,temp_synopsis[0])\n",
    "    else:\n",
    "        synopsis.insert(i,temp_synopsis)\n",
    "    \n",
    "    temp_pre=re.findall(reg_prereq,text[i])\n",
    "    prereq =re.findall(r'[A-Z]{3}[0-9]{4}|[A-Z]{4}[0-9]{4}',str(temp_pre))\n",
    "    prereq= list(set(prereq))\n",
    "\n",
    "    temp_coreq=re.findall(reg_coreq,text[i])\n",
    "    corereq =re.findall(r'[A-Z]{3}[0-9]{4}|[A-Z]{4}[0-9]{4}',str(temp_coreq))\n",
    "    corereq= list(set(corereq))\n",
    "    \n",
    "    prerequisite.insert(i,list(set(corereq+prereq)))\n",
    "    \n",
    "    temp_pro=re.findall(reg_prohib,text[i])\n",
    "    prohib =re.findall(r'[A-Z]{3}[0-9]{4}|[A-Z]{4}[0-9]{4}',str(temp_pro))\n",
    "    prohibition.insert(i,list(set(prohib)))\n",
    "    \n",
    "    temp_req=re.findall(reg_req,text[i])\n",
    "    temp_req= str(temp_req)\n",
    "    temp_req=re.sub('<a href=\".+?>','',temp_req)\n",
    "    temp_req=re.sub('<a class=\".*?href=\".+?\">','',temp_req)    \n",
    "    temp_req=re.sub('</a>','',temp_req)\n",
    "    temp_req=re.sub('\\)?</span>','',temp_req)\n",
    "    temp_req=re.sub('<span class=.*?\\\">\\(?','',temp_req)\n",
    "    temp_req=re.sub('\\(\\(','(',temp_req)\n",
    "    temp_req=re.sub('\\&amp','&#38', temp_req)\n",
    "    temp_req=re.sub(r\"\\\\\\'\",\"'\",temp_req)\n",
    "    temp_req=re.sub('\\.html','.html)',temp_req)\n",
    "    req =re.findall(r'<p>(.+?)</p>',str(temp_req))\n",
    "#     if len(temp_req)==0 and len (req)==0:\n",
    "#         temp_req=re.findall(reg_req_2,text[i])\n",
    "#         req =re.findall(r'<p></p><p>(.+?)</p>',str(temp_req))\n",
    "    requirement.insert(i,list(req))\n",
    "    \n",
    "    temp_out=re.findall(reg_outcome,text[i])\n",
    "    temp_out =re.sub('<a href=\\\".*?\\.html\">','',str(temp_out))\n",
    "    temp_out=re.sub('</a>','',temp_out)\n",
    "    temp_out=re.sub('</span>','',temp_out)\n",
    "    temp_out=re.sub('<p>','',temp_out)\n",
    "    temp_out=re.sub('</p>','',temp_out)\n",
    "    temp_out=re.sub('<span class=.*?\\\">','',temp_out)\n",
    "    temp_out=re.sub(r\"\\\\\\'\",\"'\",temp_out)\n",
    "    temp_out=re.sub('\\&amp','&#38', temp_out)\n",
    "\n",
    "    out =re.findall(r'<li>(.+?)(?:</li|<ol)',str(temp_out))\n",
    "#     if len(out)==0 and len(temp_out)!=0:\n",
    "#         out =re.findall(r'>.?\\d.?(.+?)<',str(temp_out))\n",
    "#     if len(out)==0 and len(temp_out)!=0:\n",
    "#         out =re.findall(r'<p>(.+?)</p>',str(temp_out))\n",
    "        \n",
    "    outcome.insert(i,list(out))\n",
    "\n",
    "    temp_ce=re.findall(reg_ce,text[i])\n",
    "    ce =re.findall(r'<a href.*?name=(?:.*?)\">(.+?)</',str(temp_ce))\n",
    "    if len(temp_ce)!=0 and len(ce)==0:\n",
    "        ce =re.findall(r'.*?([Pp]rof.*? .*? .*? .*?).*',str(temp_ce))\n",
    "    chief_examiner.insert(i,list(set(ce)))\n",
    "\n",
    "    \n",
    "    "
   ]
  },
  {
   "cell_type": "markdown",
   "metadata": {},
   "source": [
    "The above code is created in the process of multiple iteration where ample of issues were identified and were resolved and then merged back to the original code back again. \n",
    "##### Some of the issues that were identified were:\n",
    "- After checking the count of prohibition in the html it is 177 while from our regegex we are getting 172. While investigating further the difference of count in the files, it was discovered that difference of count is because there is no unit code present in prohibitions and we only need unit code as part of prohibitions. \n",
    "- we will check for the unit code where multiple prerequisite and corequisite are present to validate the regular expression \n",
    "- As synopsis is not present for all the unit code we can proceed further to check other entities.\n",
    "- We will check for the unit code and validate it from original file to validate if Synopsis for the unit code exists. If not our regular expression is ok\n",
    "- We will find some other requirements like off campus requirements etc. So to handle that We will add another condition to regex\n",
    "\n",
    "##### Suggestions for the file/ requirement to improve the data collection:\n",
    "- Only First para is taken for synopsis. If it has some bullet points, it is missed. which should not be the case. as it gives incomplete information. for eg. BCH3021  in the sample. \n",
    "- Similarly for prerequisite and Corequisite.\n",
    "- Outcome in the li tag were required but in certain cases data was in bullet in p tag which was not the accurate representation of databut."
   ]
  },
  {
   "cell_type": "markdown",
   "metadata": {},
   "source": [
    "## 6. Writing the data into XML file"
   ]
  },
  {
   "cell_type": "code",
   "execution_count": 17,
   "metadata": {},
   "outputs": [],
   "source": [
    "file= open('29858186.xml','w')\n",
    "file.write('<?xml version=\"1.0\" encoding=\"UTF-8\" ?>\\n<units>\\n')\n",
    "for i in range(len(unit_code)-1):\n",
    "    #Writing unit_code into the file\n",
    "    file.write(\"<unit id='\"+unit_code[i][0]+\"'>\\n\")\n",
    "    #Writing Title into the file\n",
    "    file.write(\"<title> \"+title[i][0]+\"</title>\\n\")\n",
    "    #writing synopsis into the file\n",
    "    if len(synopsis[i])!=0:\n",
    "        file.write(\"<synopsis> \"+synopsis[i]+\"</synopsis>\\n\")\n",
    "    else:\n",
    "        file.write(\"<synopsis> NA </synopsis>\\n\")\n",
    "    #Writing prerequisites in the file    \n",
    "    if len(prerequisite[i])==0:\n",
    "        file.write(\"<pre_requistics> NA </pre_requistics>\\n\")\n",
    "    else:\n",
    "        file.write(\"<pre_requistics>\\n\")\n",
    "        for each in prerequisite[i]:\n",
    "            file.write(\"<pre_requistic>\"+each+\"</pre_requistic>\")\n",
    "        file.write(\"</pre_requistics>\\n\")\n",
    "    #Writing prohibitions in the file    \n",
    "    if len(prohibition[i])==0:\n",
    "        file.write(\"<prohibisions> NA </prohibisions>\\n\")\n",
    "    else:\n",
    "        file.write(\"<prohibisions>\\n\")\n",
    "        for each in prohibition[i]:\n",
    "            file.write(\"<prohibision>\"+each+\"</prohibision>\")\n",
    "        file.write(\"</prohibisions>\\n\")\n",
    "    #Writing requirement in the file    \n",
    "    if len(requirement[i])==0:\n",
    "        file.write(\"<requirements> NA </requirements>\\n\")\n",
    "    else:\n",
    "        file.write(\"<requirements>\\n\")\n",
    "        for each in requirement[i]:\n",
    "            file.write(\"<requirement>\"+each+\"</requirement>\")\n",
    "        file.write(\"</requirements>\\n\")\n",
    "    #Writing outcome in the file    \n",
    "    if len(outcome[i])==0:\n",
    "        file.write(\"<outcomes> NA </outcomes>\\n\")\n",
    "    else:\n",
    "        file.write(\"<outcomes>\\n\")\n",
    "        for each in outcome[i]:\n",
    "            file.write(\"<outcome>\"+each+\"</outcome>\")\n",
    "        file.write(\"</outcomes>\\n\")\n",
    "    #Writing chief examiner in the file    \n",
    "    if len(chief_examiner[i])==0:\n",
    "        file.write(\"<chief_examiners> TBA </chief_examiners>\\n\")\n",
    "    else:\n",
    "        file.write(\"<chief_examiners>\\n\")\n",
    "        for each in chief_examiner[i]:\n",
    "            file.write(\"<chief_examiner>\"+each+\"</chief_examiner>\")\n",
    "        file.write(\"</chief_examiners>\\n\")\n",
    "    file.write(\"</unit>\\n\")\n",
    "        \n",
    "file.write('</units>')\n",
    "file.close()\n"
   ]
  },
  {
   "cell_type": "markdown",
   "metadata": {},
   "source": [
    "## 7. Writing the data into JSON file"
   ]
  },
  {
   "cell_type": "code",
   "execution_count": 18,
   "metadata": {},
   "outputs": [],
   "source": [
    "file= open('29858186.json','w')\n",
    "file.write('{\\n\"units\": {\\n          \"unit\": [\\n')\n",
    "\n",
    "for i in range(len(unit_code)-1):\n",
    "    if i==0:\n",
    "        file.write('{\\n')\n",
    "    else:\n",
    "        file.write(',\\n{\\n')\n",
    "    #Writing unit_code into the file\n",
    "    file.write('\"@id\": \"'+unit_code[i][0]+'\",\\n')\n",
    "    #Writing Title into the file\n",
    "    file.write('\"title\": \"'+title[i][0]+'\",\\n')\n",
    "    #writing synopsis into the file\n",
    "    if len(synopsis[i])!=0:\n",
    "        each=synopsis[i]\n",
    "        each=re.sub(r'\"','\\\\\"',each)\n",
    "        each = re.sub('&#38;',\"&\",each)\n",
    "        each = re.sub('&gt;',\">\",each)\n",
    "        file.write('\"synopsis\": \"'+each+'\",\\n')\n",
    "    else:\n",
    "        file.write('\"synopsis\": \"NA\",\\n')\n",
    "    #Writing prerequisites in the file \n",
    "    \n",
    "    if len(prerequisite[i])==0:\n",
    "        file.write('\"pre_requistics\": \"NA\",\\n')\n",
    "    elif len(prerequisite[i])==1:\n",
    "        file.write('\"pre_requistics\": {\\n \"pre_requistic\": \"'+prerequisite[i][0]+'\"\\n},\\n')\n",
    "    else:\n",
    "        file.write('\"pre_requistics\": {\\n \"pre_requistic\": [\\n')\n",
    "        count=0\n",
    "        for each in prerequisite[i]:\n",
    "            count+=1\n",
    "            file.write('\"'+each+'\"')\n",
    "            if count!=len (prerequisite[i]):\n",
    "                file.write(',\\n')\n",
    "            else:\n",
    "                file.write('\\n')\n",
    "        file.write(\"]\\n},\\n\")\n",
    "        \n",
    "    #Writing prohibitions in the file  \n",
    "    if len(prohibition[i])==0:\n",
    "        file.write('\"prohibisions\": \"NA\",\\n')\n",
    "    elif len(prohibition[i])==1:\n",
    "        file.write('\"prohibisions\": {\\n \"prohibision\": \"'+prohibition[i][0]+'\"\\n},\\n')\n",
    "    else:\n",
    "        file.write('\"prohibisions\": {\\n \"prohibision\": [\\n')\n",
    "        count=0\n",
    "        for each in prohibition[i]:\n",
    "            count+=1\n",
    "            file.write('\"'+each+'\"')\n",
    "            if count!=len (prohibition[i]):\n",
    "                file.write(',\\n')\n",
    "            else:\n",
    "                file.write('\\n')\n",
    "        file.write(\"]\\n},\\n\")\n",
    "        \n",
    "    #Writing requirement in the file    \n",
    "    if len(requirement[i])==0:\n",
    "        file.write('\"requirements\": \"NA\",\\n')\n",
    "    elif len(requirement[i])==1:\n",
    "        file.write('\"requirements\": {\\n \"requirement\": \"'+str(requirement[i][0])+'\"\\n},\\n')\n",
    "    else:\n",
    "        file.write('\"requirements\": {\\n \"requirement\": [\\n')\n",
    "        count=0\n",
    "        for each in requirement[i]:\n",
    "            count+=1\n",
    "            each=re.sub(r'\"','\\\\\"',each)\n",
    "            each = re.sub('&#38;',r'&',each)\n",
    "            file.write('\"'+str(each)+'\"')\n",
    "            if count!=len (requirement[i]):\n",
    "                file.write(',\\n')\n",
    "            else:\n",
    "                file.write('\\n')\n",
    "        file.write(\"]\\n},\\n\")\n",
    "        \n",
    "        \n",
    "    #Writing outcome in the file    \n",
    "    if len(outcome[i])==0:\n",
    "        file.write('\"outcomes\": \"NA\",\\n')\n",
    "    elif len(outcome[i])==1:\n",
    "        file.write('\"outcomes\": {\\n \"outcome\": \"'+str(outcome[i][0])+'\"\\n},\\n')\n",
    "    else:\n",
    "        file.write('\"outcomes\": {\\n \"outcome\": [\\n')\n",
    "        count=0\n",
    "        for each in outcome[i]:\n",
    "            each=re.sub(r'\"','\\\\\"',each)\n",
    "            each = re.sub('&#38;',r'&',each)\n",
    "            count+=1\n",
    "            file.write('\"'+str(each)+'\"')\n",
    "            if count!=len (outcome[i]):\n",
    "                file.write(',\\n')\n",
    "            else:\n",
    "                file.write('\\n')\n",
    "        file.write(\"]\\n},\\n\")\n",
    "    #Writing chief examiner in the file    \n",
    "    if len(chief_examiner[i])==0:\n",
    "        file.write('\"chief_examiners\": \"TBA\"\\n')\n",
    "    elif len(chief_examiner[i])==1:\n",
    "        file.write('\"chief_examiners\": {\\n \"chief_examiner\": \"'+chief_examiner[i][0]+'\"\\n}\\n')\n",
    "    else:\n",
    "        file.write('\"chief_examiners\": {\\n \"chief_examiner\": [\\n')\n",
    "        count=0\n",
    "        for each in chief_examiner[i]:\n",
    "            count+=1\n",
    "            file.write('\"'+each+'\"')\n",
    "            if count!=len (chief_examiner[i]):\n",
    "                file.write(',\\n')\n",
    "            else:\n",
    "                file.write('\\n')\n",
    "        file.write(\"]\\n}\\n\")\n",
    "    file.write('}')\n",
    "        \n",
    "file.write('\\n]\\n}\\n}')\n",
    "file.close()\n"
   ]
  },
  {
   "cell_type": "markdown",
   "metadata": {},
   "source": [
    "## 8. Further Validation"
   ]
  },
  {
   "cell_type": "markdown",
   "metadata": {},
   "source": [
    "To Finally Validate the code, \n",
    "- I have used the sample text file provided to us.\n",
    "- Ran the code and genereated the xml and json files. \n",
    "- Compared the JSON and xml files provided in the sample with files genereated by my code to identify and fix issues if any.\n"
   ]
  },
  {
   "cell_type": "markdown",
   "metadata": {},
   "source": [
    "## 9. Summary "
   ]
  },
  {
   "cell_type": "markdown",
   "metadata": {},
   "source": [
    "This assesment covers basic understanding of text file processing in python. \n",
    "The main outcome of task1 are:\n",
    "- **.dat Parsing and data Extraction** Data is extracted from .dat file and sub() is used to replace the headings in each job posting.\n",
    "- **re library** By using re to get different pattern matching and to extract data from file.\n",
    "- **File Handling** Extracting and Exporting data to specified format Exporting data into json and xml file using open(), write() and open() with use of iteration make the task more easy.\n",
    "- writing code for xml transformation to understand how the complete format of xml is created.\n",
    "- Finally json and xml are created consisting of each job posting data"
   ]
  }
 ],
 "metadata": {
  "kernelspec": {
   "display_name": "Python 3",
   "language": "python",
   "name": "python3"
  },
  "language_info": {
   "codemirror_mode": {
    "name": "ipython",
    "version": 3
   },
   "file_extension": ".py",
   "mimetype": "text/x-python",
   "name": "python",
   "nbconvert_exporter": "python",
   "pygments_lexer": "ipython3",
   "version": "3.6.4"
  }
 },
 "nbformat": 4,
 "nbformat_minor": 2
}
